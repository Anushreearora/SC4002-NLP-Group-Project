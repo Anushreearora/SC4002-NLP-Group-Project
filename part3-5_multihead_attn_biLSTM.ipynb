{
 "cells": [
  {
   "cell_type": "markdown",
   "metadata": {},
   "source": [
    "## Install and import dependencies"
   ]
  },
  {
   "cell_type": "markdown",
   "metadata": {},
   "source": [
    "## Part 0. Dataset Preparation"
   ]
  },
  {
   "cell_type": "code",
   "execution_count": 1,
   "metadata": {},
   "outputs": [
    {
     "name": "stderr",
     "output_type": "stream",
     "text": [
      "c:\\Users\\geola\\AppData\\Local\\Programs\\Python\\Python312\\Lib\\site-packages\\tqdm\\auto.py:21: TqdmWarning: IProgress not found. Please update jupyter and ipywidgets. See https://ipywidgets.readthedocs.io/en/stable/user_install.html\n",
      "  from .autonotebook import tqdm as notebook_tqdm\n"
     ]
    }
   ],
   "source": [
    "from datasets import load_dataset\n",
    "dataset = load_dataset(\"rotten_tomatoes\")\n",
    "train_dataset = dataset['train'] \n",
    "validation_dataset = dataset['validation']\n",
    "test_dataset = dataset['test']"
   ]
  },
  {
   "cell_type": "markdown",
   "metadata": {},
   "source": [
    "## Part 2 : Model Training & Evaluation - RNN"
   ]
  },
  {
   "cell_type": "code",
   "execution_count": 2,
   "metadata": {},
   "outputs": [
    {
     "name": "stdout",
     "output_type": "stream",
     "text": [
      "Requirement already satisfied: scikit-learn in c:\\users\\geola\\appdata\\local\\programs\\python\\python312\\lib\\site-packages (1.5.2)\n",
      "Requirement already satisfied: numpy>=1.19.5 in c:\\users\\geola\\appdata\\local\\programs\\python\\python312\\lib\\site-packages (from scikit-learn) (1.26.4)\n",
      "Requirement already satisfied: scipy>=1.6.0 in c:\\users\\geola\\appdata\\local\\programs\\python\\python312\\lib\\site-packages (from scikit-learn) (1.12.0)\n",
      "Requirement already satisfied: joblib>=1.2.0 in c:\\users\\geola\\appdata\\local\\programs\\python\\python312\\lib\\site-packages (from scikit-learn) (1.4.2)\n",
      "Requirement already satisfied: threadpoolctl>=3.1.0 in c:\\users\\geola\\appdata\\local\\programs\\python\\python312\\lib\\site-packages (from scikit-learn) (3.5.0)\n",
      "Note: you may need to restart the kernel to use updated packages.\n"
     ]
    }
   ],
   "source": [
    "%pip install scikit-learn"
   ]
  },
  {
   "cell_type": "code",
   "execution_count": 3,
   "metadata": {},
   "outputs": [
    {
     "name": "stdout",
     "output_type": "stream",
     "text": [
      "Loaded embedding matrix with shape: (16633, 300)\n",
      "Vocabulary size (word_to_index): 16633\n"
     ]
    }
   ],
   "source": [
    "import pickle\n",
    "import numpy as np\n",
    "import torch\n",
    "import torch.nn as nn\n",
    "from torch.utils.data import DataLoader, Dataset\n",
    "from nltk.tokenize import word_tokenize\n",
    "from sklearn.metrics import accuracy_score\n",
    "import torch.optim as optim\n",
    "import spacy\n",
    "import random\n",
    "\n",
    "# Load spaCy model\n",
    "nlp = spacy.load(\"en_core_web_sm\")\n",
    "\n",
    "# Load the embedding matrix and word_to_index from the pickle file\n",
    "with open(\"updated_embedding_matrix.pkl\", \"rb\") as f:\n",
    "    data = pickle.load(f)\n",
    "    embedding_matrix = data[\"embeddings\"]\n",
    "    word_to_index = data[\"word_to_index\"]\n",
    "\n",
    "# Convert embedding_matrix to a NumPy array and a PyTorch tensor\n",
    "embedding_matrix_array = np.array(embedding_matrix)\n",
    "embedding_matrix_tensor = torch.tensor(embedding_matrix_array, dtype=torch.float32)\n",
    "\n",
    "print(f\"Loaded embedding matrix with shape: {embedding_matrix_array.shape}\")\n",
    "print(f\"Vocabulary size (word_to_index): {len(word_to_index)}\")"
   ]
  },
  {
   "cell_type": "code",
   "execution_count": 4,
   "metadata": {},
   "outputs": [],
   "source": [
    "def set_seed(seed=42):\n",
    "    random.seed(seed)\n",
    "    np.random.seed(seed)\n",
    "    torch.manual_seed(seed)\n",
    "    torch.cuda.manual_seed(seed)\n",
    "    torch.backends.cudnn.deterministic = True  # Ensures reproducibility in CUDA operations\n",
    "    torch.backends.cudnn.benchmark = False     # Disables some optimizations to ensure determinism\n",
    "\n",
    "# Set the seed\n",
    "set_seed(42)"
   ]
  },
  {
   "cell_type": "code",
   "execution_count": 5,
   "metadata": {},
   "outputs": [],
   "source": [
    "pre_tokenized_train_texts = []\n",
    "for sentence in train_dataset['text']:\n",
    "    # Tokenize the sentence using spaCy and store tokens as a list of strings\n",
    "    tokens = [token.text for token in nlp(sentence.lower())]\n",
    "    pre_tokenized_train_texts.append(tokens)"
   ]
  },
  {
   "cell_type": "code",
   "execution_count": 6,
   "metadata": {},
   "outputs": [],
   "source": [
    "# Pre-tokenize validation and test sets\n",
    "pre_tokenized_validation_texts = [[token.text for token in nlp(sentence.lower())] for sentence in validation_dataset['text']]\n",
    "pre_tokenized_test_texts = [[token.text for token in nlp(sentence.lower())] for sentence in test_dataset['text']]\n"
   ]
  },
  {
   "cell_type": "code",
   "execution_count": 7,
   "metadata": {},
   "outputs": [],
   "source": [
    "# Prepare Dataset for PyTorch\n",
    "class SentimentDataset(Dataset):\n",
    "    def __init__(self, tokenized_texts, labels, vocab, embedding_matrix, max_len=30):\n",
    "        self.texts = tokenized_texts\n",
    "        self.labels = labels\n",
    "        self.vocab = word_to_index\n",
    "        self.embedding_matrix = embedding_matrix\n",
    "        self.max_len = max_len\n",
    "\n",
    "    def __len__(self):\n",
    "        return len(self.texts)\n",
    "\n",
    "    def __getitem__(self, idx):\n",
    "        tokens = self.texts[idx]\n",
    "        label = self.labels[idx]\n",
    "        vectorized_text = self.vectorize(tokens)\n",
    "        return torch.tensor(vectorized_text), torch.tensor(label)\n",
    "\n",
    "    def vectorize(self, tokens):\n",
    "        vectorized = [self.vocab.get(token, self.vocab['<UNK>']) for token in tokens]\n",
    "\n",
    "        # Check for out-of-range indices\n",
    "        for index in vectorized:\n",
    "            if index >= len(self.embedding_matrix):\n",
    "                raise ValueError(f\"Index {index} is out of range for the embedding matrix.\")\n",
    "                \n",
    "        # Pad or truncate to max_len\n",
    "        if len(vectorized) < self.max_len:\n",
    "            vectorized += [self.vocab['<PAD>']] * (self.max_len - len(vectorized))\n",
    "        else:\n",
    "            vectorized = vectorized[:self.max_len]\n",
    "        return vectorized\n"
   ]
  },
  {
   "cell_type": "markdown",
   "metadata": {},
   "source": [
    "## 3.5: Improvement - Multihead Self Attention LSTM"
   ]
  },
  {
   "cell_type": "code",
   "execution_count": 8,
   "metadata": {},
   "outputs": [],
   "source": [
    "import torch.nn.functional as F\n",
    "class MultiHeadSelfAttention(nn.Module):\n",
    "    def __init__(self, hidden_dim, num_heads):\n",
    "        super(MultiHeadSelfAttention, self).__init__()\n",
    "        assert hidden_dim % num_heads == 0, \"Hidden dimension must be divisible by the number of heads\"\n",
    "        self.hidden_dim = hidden_dim  # Store hidden_dim as an instance variable\n",
    "        self.num_heads = num_heads\n",
    "        self.dim_per_head = hidden_dim // num_heads\n",
    "        \n",
    "        # Define linear layers for query, key, and value\n",
    "        self.query_layer = nn.Linear(hidden_dim, hidden_dim)\n",
    "        self.key_layer = nn.Linear(hidden_dim, hidden_dim)\n",
    "        self.value_layer = nn.Linear(hidden_dim, hidden_dim)\n",
    "        \n",
    "        # Linear layer to combine heads\n",
    "        self.fc = nn.Linear(hidden_dim, hidden_dim)\n",
    "\n",
    "    def forward(self, encoder_outputs):\n",
    "        batch_size = encoder_outputs.size(0)\n",
    "        \n",
    "        # Linear projections\n",
    "        query = self.query_layer(encoder_outputs)  # [batch_size, seq_len, hidden_dim]\n",
    "        key = self.key_layer(encoder_outputs)\n",
    "        value = self.value_layer(encoder_outputs)\n",
    "        \n",
    "        # Split into multiple heads and reshape for attention calculation\n",
    "        query = query.view(batch_size, -1, self.num_heads, self.dim_per_head).transpose(1, 2)\n",
    "        key = key.view(batch_size, -1, self.num_heads, self.dim_per_head).transpose(1, 2)\n",
    "        value = value.view(batch_size, -1, self.num_heads, self.dim_per_head).transpose(1, 2)\n",
    "        \n",
    "        # Scaled Dot-Product Attention\n",
    "        attn_weights = torch.matmul(query, key.transpose(-2, -1)) / (self.dim_per_head ** 0.5)\n",
    "        attn_weights = F.softmax(attn_weights, dim=-1)\n",
    "        \n",
    "        # Compute weighted sum of values\n",
    "        context = torch.matmul(attn_weights, value)\n",
    "        \n",
    "        # Concatenate heads and pass through final linear layer\n",
    "        context = context.transpose(1, 2).contiguous().view(batch_size, -1, self.hidden_dim)\n",
    "        return self.fc(context)\n",
    "    \n",
    "    \n",
    "class BiLSTMWithSelfAttention(nn.Module):\n",
    "    def __init__(self, embedding_matrix, hidden_size, output_size, dropout_rate=0.3, num_heads=4):\n",
    "        super(BiLSTMWithSelfAttention, self).__init__()\n",
    "        # Load pre-trained embeddings\n",
    "        self.embedding = nn.Embedding.from_pretrained(torch.tensor(embedding_matrix, dtype=torch.float32), freeze=False)\n",
    "        \n",
    "        # Define the bidirectional LSTM layer\n",
    "        self.lstm = nn.LSTM(embedding_matrix.shape[1], hidden_size, num_layers=1, \n",
    "                            bidirectional=True, batch_first=True)\n",
    "        \n",
    "        # Multi-head self-attention layer\n",
    "        self.self_attn = MultiHeadSelfAttention(hidden_size * 2, num_heads=num_heads)\n",
    "        \n",
    "        # Fully connected layer to output the final prediction\n",
    "        self.fc = nn.Linear(hidden_size * 2, output_size)\n",
    "        \n",
    "        # Dropout layer\n",
    "        self.dropout = nn.Dropout(dropout_rate)\n",
    "\n",
    "    def forward(self, x):\n",
    "        # Embed the input\n",
    "        embedded = self.embedding(x)  # [batch_size, seq_len, embedding_dim]\n",
    "        \n",
    "        # Pass the embeddings through the LSTM\n",
    "        lstm_out, _ = self.lstm(embedded)  # lstm_out: [batch_size, seq_len, hidden_size * 2]\n",
    "        \n",
    "        # Apply multi-head self-attention on the LSTM outputs\n",
    "        context = self.self_attn(lstm_out)  # [batch_size, seq_len, hidden_size * 2]\n",
    "        \n",
    "        # Use mean pooling over the sequence length for final sentence representation\n",
    "        pooled_context = torch.mean(context, dim=1)  # [batch_size, hidden_size * 2]\n",
    "        \n",
    "        # Pass through fully connected layer\n",
    "        output = self.fc(self.dropout(pooled_context))  # [batch_size, output_size]\n",
    "        \n",
    "        return output"
   ]
  },
  {
   "cell_type": "code",
   "execution_count": 9,
   "metadata": {},
   "outputs": [],
   "source": [
    "# Prepare DataLoader\n",
    "def create_data_loader(dataset, batch_size):\n",
    "    return DataLoader(dataset, batch_size=batch_size, shuffle=True)\n",
    "\n",
    "train_dataset_instance = SentimentDataset(pre_tokenized_train_texts, train_dataset['label'], word_to_index, embedding_matrix)\n",
    "val_dataset_instance = SentimentDataset(pre_tokenized_validation_texts, validation_dataset['label'], word_to_index, embedding_matrix)\n",
    "test_dataset_instance = SentimentDataset(pre_tokenized_test_texts, test_dataset['label'], word_to_index, embedding_matrix)"
   ]
  },
  {
   "cell_type": "code",
   "execution_count": 10,
   "metadata": {},
   "outputs": [],
   "source": [
    "def evaluate(model, data_loader):\n",
    "    model.eval()\n",
    "    all_preds = []\n",
    "    all_labels = []\n",
    "    with torch.no_grad():\n",
    "        for data, labels in data_loader:\n",
    "            output = model.forward(data)\n",
    "            probs = torch.sigmoid(output)  # Apply sigmoid to get probabilities\n",
    "            predicted = (probs >= 0.5).long()  # Convert probabilities to binary predictions\n",
    "            all_preds.extend(predicted.cpu().numpy().flatten().tolist())\n",
    "            all_labels.extend(labels.cpu().numpy().tolist())\n",
    "    acc = accuracy_score(all_labels, all_preds)\n",
    "    return acc"
   ]
  },
  {
   "cell_type": "code",
   "execution_count": 11,
   "metadata": {},
   "outputs": [],
   "source": [
    "# Train and validate function\n",
    "def train_and_validate(model, train_loader, val_loader, optimizer, criterion, max_epochs=100, convergence_threshold=0.001):\n",
    "    best_val_acc = 0\n",
    "    epochs_without_improvement = 0\n",
    "    \n",
    "    for epoch in range(max_epochs):\n",
    "        model.train()\n",
    "        running_loss = 0\n",
    "        for data, target in train_loader:\n",
    "            optimizer.zero_grad()\n",
    "            output = model(data).squeeze(1)\n",
    "            loss = criterion(output, target.float())\n",
    "            loss.backward()\n",
    "            optimizer.step()\n",
    "            running_loss += loss.item()\n",
    "        \n",
    "        val_acc = evaluate(model, val_loader)\n",
    "        print(f\"Epoch {epoch+1}/{max_epochs}, Loss: {running_loss/len(train_loader)}, Val Accuracy: {val_acc}\")\n",
    "        \n",
    "        # Check for improvement\n",
    "        if val_acc > best_val_acc:\n",
    "            best_val_acc = val_acc\n",
    "            epochs_without_improvement = 0  # Reset counter\n",
    "        else:\n",
    "            epochs_without_improvement += 1\n",
    "            \n",
    "        # Check for convergence\n",
    "        if epochs_without_improvement >= 10:  # Convergence condition (no improvement for 5 epochs)\n",
    "            print(\"Convergence reached, stopping training.\")\n",
    "            break\n",
    "            \n",
    "    return best_val_acc, epoch \n"
   ]
  },
  {
   "cell_type": "code",
   "execution_count": 12,
   "metadata": {},
   "outputs": [
    {
     "name": "stdout",
     "output_type": "stream",
     "text": [
      "Epoch 1/100, Loss: 0.5467946498251673, Val Accuracy: 0.7382739212007504\n",
      "Epoch 2/100, Loss: 0.3475748131524271, Val Accuracy: 0.7786116322701688\n",
      "Epoch 3/100, Loss: 0.18891150587752684, Val Accuracy: 0.775797373358349\n",
      "Epoch 4/100, Loss: 0.07896038220583726, Val Accuracy: 0.7729831144465291\n",
      "Epoch 5/100, Loss: 0.03400338272526756, Val Accuracy: 0.7626641651031895\n",
      "Epoch 6/100, Loss: 0.01741032857871823, Val Accuracy: 0.7711069418386491\n",
      "Epoch 7/100, Loss: 0.004463940029463221, Val Accuracy: 0.7851782363977486\n",
      "Epoch 8/100, Loss: 0.0027898363919782797, Val Accuracy: 0.7654784240150094\n",
      "Epoch 9/100, Loss: 0.019749614002363674, Val Accuracy: 0.7570356472795498\n",
      "Epoch 10/100, Loss: 0.00684902294606625, Val Accuracy: 0.7701688555347092\n",
      "Epoch 11/100, Loss: 0.005605665637678829, Val Accuracy: 0.775797373358349\n",
      "Epoch 12/100, Loss: 0.0006463904098225938, Val Accuracy: 0.7692307692307693\n",
      "Epoch 13/100, Loss: 6.428473893834901e-05, Val Accuracy: 0.7701688555347092\n",
      "Epoch 14/100, Loss: 3.0413369074828193e-05, Val Accuracy: 0.7692307692307693\n",
      "Epoch 15/100, Loss: 2.074856468246409e-05, Val Accuracy: 0.7692307692307693\n",
      "Epoch 16/100, Loss: 1.4620196330956483e-05, Val Accuracy: 0.7682926829268293\n",
      "Epoch 17/100, Loss: 1.1982275785618985e-05, Val Accuracy: 0.7673545966228893\n",
      "Convergence reached, stopping training.\n",
      "Validation Accuracy: 0.7851782363977486, over 16 epochs\n"
     ]
    }
   ],
   "source": [
    "#Training the model with the best hyperparameters\n",
    "batch_size = 64\n",
    "lr=0.001\n",
    "model = BiLSTMWithSelfAttention(embedding_matrix_array, hidden_size=128, output_size=1)\n",
    "criterion = nn.BCEWithLogitsLoss()\n",
    "optimizer = optim.Adam(model.parameters(), lr=lr)\n",
    "\n",
    "train_loader = create_data_loader(train_dataset_instance, batch_size)\n",
    "val_loader = create_data_loader(val_dataset_instance, batch_size)\n",
    "                \n",
    "# Train and validate\n",
    "val_acc, epochs_used = train_and_validate(model, train_loader, val_loader, optimizer, criterion)\n",
    "print(f\"Validation Accuracy: {val_acc}, over {epochs_used} epochs\")"
   ]
  },
  {
   "cell_type": "code",
   "execution_count": 13,
   "metadata": {},
   "outputs": [
    {
     "name": "stdout",
     "output_type": "stream",
     "text": [
      "Test Accuracy: 0.7861163227016885\n",
      "Final Configuration:\n",
      "Epochs: 16\n",
      "Learning Rate: 0.001\n",
      "Optimizer: Adam\n",
      "Batch Size: 64\n"
     ]
    }
   ],
   "source": [
    "# Step 7: Evaluate on Test Set\n",
    "test_loader = create_data_loader(test_dataset_instance, batch_size)\n",
    "test_acc = evaluate(model, test_loader)\n",
    "print(f\"Test Accuracy: {test_acc}\")\n",
    "\n",
    "# Report the configuration\n",
    "print(f\"Final Configuration:\\nEpochs: {epochs_used}\\nLearning Rate: {lr}\\nOptimizer: Adam\\nBatch Size: {batch_size}\")"
   ]
  }
 ],
 "metadata": {
  "kernelspec": {
   "display_name": "Python 3",
   "language": "python",
   "name": "python3"
  },
  "language_info": {
   "codemirror_mode": {
    "name": "ipython",
    "version": 3
   },
   "file_extension": ".py",
   "mimetype": "text/x-python",
   "name": "python",
   "nbconvert_exporter": "python",
   "pygments_lexer": "ipython3",
   "version": "3.12.2"
  }
 },
 "nbformat": 4,
 "nbformat_minor": 2
}
