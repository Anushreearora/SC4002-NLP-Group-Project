{
 "cells": [
  {
   "cell_type": "markdown",
   "metadata": {},
   "source": [
    "## Install and import dependencies"
   ]
  },
  {
   "cell_type": "markdown",
   "metadata": {},
   "source": [
    "## Part 0. Dataset Preparation"
   ]
  },
  {
   "cell_type": "code",
   "execution_count": 1,
   "metadata": {},
   "outputs": [
    {
     "name": "stderr",
     "output_type": "stream",
     "text": [
      "c:\\Users\\geola\\AppData\\Local\\Programs\\Python\\Python312\\Lib\\site-packages\\tqdm\\auto.py:21: TqdmWarning: IProgress not found. Please update jupyter and ipywidgets. See https://ipywidgets.readthedocs.io/en/stable/user_install.html\n",
      "  from .autonotebook import tqdm as notebook_tqdm\n"
     ]
    }
   ],
   "source": [
    "from datasets import load_dataset\n",
    "dataset = load_dataset(\"rotten_tomatoes\")\n",
    "train_dataset = dataset['train'] \n",
    "validation_dataset = dataset['validation']\n",
    "test_dataset = dataset['test']"
   ]
  },
  {
   "cell_type": "markdown",
   "metadata": {},
   "source": [
    "## Part 2 : Model Training & Evaluation - RNN"
   ]
  },
  {
   "cell_type": "code",
   "execution_count": 2,
   "metadata": {},
   "outputs": [
    {
     "name": "stdout",
     "output_type": "stream",
     "text": [
      "Requirement already satisfied: scikit-learn in c:\\users\\geola\\appdata\\local\\programs\\python\\python312\\lib\\site-packages (1.5.2)Note: you may need to restart the kernel to use updated packages.\n",
      "\n",
      "Requirement already satisfied: numpy>=1.19.5 in c:\\users\\geola\\appdata\\local\\programs\\python\\python312\\lib\\site-packages (from scikit-learn) (1.26.4)\n",
      "Requirement already satisfied: scipy>=1.6.0 in c:\\users\\geola\\appdata\\local\\programs\\python\\python312\\lib\\site-packages (from scikit-learn) (1.12.0)\n",
      "Requirement already satisfied: joblib>=1.2.0 in c:\\users\\geola\\appdata\\local\\programs\\python\\python312\\lib\\site-packages (from scikit-learn) (1.4.2)\n",
      "Requirement already satisfied: threadpoolctl>=3.1.0 in c:\\users\\geola\\appdata\\local\\programs\\python\\python312\\lib\\site-packages (from scikit-learn) (3.5.0)\n"
     ]
    }
   ],
   "source": [
    "%pip install scikit-learn"
   ]
  },
  {
   "cell_type": "code",
   "execution_count": 3,
   "metadata": {},
   "outputs": [
    {
     "name": "stdout",
     "output_type": "stream",
     "text": [
      "Loaded embedding matrix with shape: (16633, 300)\n",
      "Vocabulary size (word_to_index): 16633\n"
     ]
    }
   ],
   "source": [
    "import pickle\n",
    "import numpy as np\n",
    "import torch\n",
    "import torch.nn as nn\n",
    "from torch.utils.data import DataLoader, Dataset\n",
    "from nltk.tokenize import word_tokenize\n",
    "from sklearn.metrics import accuracy_score\n",
    "import torch.optim as optim\n",
    "import spacy\n",
    "import random\n",
    "\n",
    "# Load spaCy model\n",
    "nlp = spacy.load(\"en_core_web_sm\")\n",
    "\n",
    "# Load the embedding matrix and word_to_index from the pickle file\n",
    "with open(\"updated_embedding_matrix.pkl\", \"rb\") as f:\n",
    "    data = pickle.load(f)\n",
    "    embedding_matrix = data[\"embeddings\"]\n",
    "    word_to_index = data[\"word_to_index\"]\n",
    "\n",
    "# Convert embedding_matrix to a NumPy array and a PyTorch tensor\n",
    "embedding_matrix_array = np.array(embedding_matrix)\n",
    "embedding_matrix_tensor = torch.tensor(embedding_matrix_array, dtype=torch.float32)\n",
    "\n",
    "print(f\"Loaded embedding matrix with shape: {embedding_matrix_array.shape}\")\n",
    "print(f\"Vocabulary size (word_to_index): {len(word_to_index)}\")"
   ]
  },
  {
   "cell_type": "code",
   "execution_count": 4,
   "metadata": {},
   "outputs": [],
   "source": [
    "def set_seed(seed=42):\n",
    "    random.seed(seed)\n",
    "    np.random.seed(seed)\n",
    "    torch.manual_seed(seed)\n",
    "    torch.cuda.manual_seed(seed)\n",
    "    torch.backends.cudnn.deterministic = True  # Ensures reproducibility in CUDA operations\n",
    "    torch.backends.cudnn.benchmark = False     # Disables some optimizations to ensure determinism\n",
    "\n",
    "# Set the seed\n",
    "set_seed(42)"
   ]
  },
  {
   "cell_type": "code",
   "execution_count": 5,
   "metadata": {},
   "outputs": [],
   "source": [
    "pre_tokenized_train_texts = []\n",
    "for sentence in train_dataset['text']:\n",
    "    # Tokenize the sentence using spaCy and store tokens as a list of strings\n",
    "    tokens = [token.text for token in nlp(sentence.lower())]\n",
    "    pre_tokenized_train_texts.append(tokens)"
   ]
  },
  {
   "cell_type": "code",
   "execution_count": 6,
   "metadata": {},
   "outputs": [],
   "source": [
    "# Pre-tokenize validation and test sets\n",
    "pre_tokenized_validation_texts = [[token.text for token in nlp(sentence.lower())] for sentence in validation_dataset['text']]\n",
    "pre_tokenized_test_texts = [[token.text for token in nlp(sentence.lower())] for sentence in test_dataset['text']]\n"
   ]
  },
  {
   "cell_type": "code",
   "execution_count": 7,
   "metadata": {},
   "outputs": [],
   "source": [
    "# Prepare Dataset for PyTorch\n",
    "class SentimentDataset(Dataset):\n",
    "    def __init__(self, tokenized_texts, labels, vocab, embedding_matrix, max_len=30):\n",
    "        self.texts = tokenized_texts\n",
    "        self.labels = labels\n",
    "        self.vocab = word_to_index\n",
    "        self.embedding_matrix = embedding_matrix\n",
    "        self.max_len = max_len\n",
    "\n",
    "    def __len__(self):\n",
    "        return len(self.texts)\n",
    "\n",
    "    def __getitem__(self, idx):\n",
    "        tokens = self.texts[idx]\n",
    "        label = self.labels[idx]\n",
    "        vectorized_text = self.vectorize(tokens)\n",
    "        return torch.tensor(vectorized_text), torch.tensor(label)\n",
    "\n",
    "    def vectorize(self, tokens):\n",
    "        vectorized = [self.vocab.get(token, self.vocab['<UNK>']) for token in tokens]\n",
    "\n",
    "        # Check for out-of-range indices\n",
    "        for index in vectorized:\n",
    "            if index >= len(self.embedding_matrix):\n",
    "                raise ValueError(f\"Index {index} is out of range for the embedding matrix.\")\n",
    "                \n",
    "        # Pad or truncate to max_len\n",
    "        if len(vectorized) < self.max_len:\n",
    "            vectorized += [self.vocab['<PAD>']] * (self.max_len - len(vectorized))\n",
    "        else:\n",
    "            vectorized = vectorized[:self.max_len]\n",
    "        return vectorized\n"
   ]
  },
  {
   "cell_type": "markdown",
   "metadata": {},
   "source": [
    "## 3.5: Improvement - Multihead Self Attention BiGRU"
   ]
  },
  {
   "cell_type": "code",
   "execution_count": 9,
   "metadata": {},
   "outputs": [],
   "source": [
    "import torch.nn.functional as F\n",
    "\n",
    "class MultiHeadSelfAttention(nn.Module):\n",
    "    def __init__(self, embed_size, num_heads):\n",
    "        super(MultiHeadSelfAttention, self).__init__()\n",
    "        self.num_heads = num_heads\n",
    "        self.embed_size = embed_size\n",
    "        self.head_dim = embed_size // num_heads\n",
    "\n",
    "        assert self.head_dim * num_heads == embed_size, \"Embedding size must be divisible by number of heads\"\n",
    "\n",
    "        self.values = nn.Linear(embed_size, embed_size)\n",
    "        self.keys = nn.Linear(embed_size, embed_size)\n",
    "        self.queries = nn.Linear(embed_size, embed_size)\n",
    "        self.fc_out = nn.Linear(embed_size, embed_size)\n",
    "\n",
    "    def forward(self, values, keys, query, mask=None):\n",
    "        N = query.shape[0]\n",
    "        value_len, key_len, query_len = values.shape[1], keys.shape[1], query.shape[1]\n",
    "\n",
    "        # Split the embedding into num_heads different pieces\n",
    "        values = values.reshape(N, value_len, self.num_heads, self.head_dim).transpose(1, 2)\n",
    "        keys = keys.reshape(N, key_len, self.num_heads, self.head_dim).transpose(1, 2)\n",
    "        query = query.reshape(N, query_len, self.num_heads, self.head_dim).transpose(1, 2)\n",
    "\n",
    "        energy = torch.einsum(\"nqhd,nkhd->nhqk\", [query, keys])  # (N, num_heads, query_len, key_len)\n",
    "\n",
    "        if mask is not None:\n",
    "            energy = energy.masked_fill(mask == 0, float(\"-1e20\"))\n",
    "\n",
    "        attention = torch.softmax(energy / (self.embed_size ** (1 / 2)), dim=-1)  # (N, num_heads, query_len, key_len)\n",
    "\n",
    "        out = torch.einsum(\"nhql,nlhd->nqhd\", [attention, values])  # (N, query_len, num_heads, head_dim)\n",
    "        out = out.transpose(1, 2).reshape(N, query_len, self.num_heads * self.head_dim)  # (N, query_len, embed_size)\n",
    "\n",
    "        out = self.fc_out(out)\n",
    "        return out\n",
    "\n",
    "\n",
    "class BiGRUWithSelfAttention(nn.Module):\n",
    "    def __init__(self, embedding_matrix, hidden_size, output_size, num_heads=8, dropout=0.1):\n",
    "        super(BiGRUWithSelfAttention, self).__init__()\n",
    "        \n",
    "        # Embedding layer\n",
    "        self.embedding = nn.Embedding.from_pretrained(embedding_matrix, freeze=False)\n",
    "        \n",
    "        # Bi-GRU Layer\n",
    "        self.bigru = nn.GRU(input_size=embedding_matrix.size(1), hidden_size=hidden_size,\n",
    "                            num_layers=1, bidirectional=True, batch_first=True, dropout=dropout)\n",
    "\n",
    "        # Multi-Head Self Attention Layer\n",
    "        self.attention = MultiHeadSelfAttention(embed_size=hidden_size * 2, num_heads=num_heads)\n",
    "\n",
    "        # Fully connected output layer\n",
    "        self.fc = nn.Linear(hidden_size * 2, output_size)\n",
    "\n",
    "    def forward(self, x):\n",
    "        # Get the embedding for the input sequence\n",
    "        embedded = self.embedding(x)\n",
    "        \n",
    "        # Pass through BiGRU\n",
    "        gru_out, _ = self.bigru(embedded)\n",
    "\n",
    "        # Pass through Multi-Head Attention\n",
    "        attention_out = self.attention(gru_out, gru_out, gru_out)\n",
    "\n",
    "        # Pass through a fully connected layer for final output\n",
    "        output = self.fc(attention_out[:, -1, :])  # Take the last output for classification\n",
    "\n",
    "        return output\n"
   ]
  },
  {
   "cell_type": "code",
   "execution_count": 10,
   "metadata": {},
   "outputs": [],
   "source": [
    "# Prepare DataLoader\n",
    "def create_data_loader(dataset, batch_size):\n",
    "    return DataLoader(dataset, batch_size=batch_size, shuffle=True)\n",
    "\n",
    "train_dataset_instance = SentimentDataset(pre_tokenized_train_texts, train_dataset['label'], word_to_index, embedding_matrix)\n",
    "val_dataset_instance = SentimentDataset(pre_tokenized_validation_texts, validation_dataset['label'], word_to_index, embedding_matrix)\n",
    "test_dataset_instance = SentimentDataset(pre_tokenized_test_texts, test_dataset['label'], word_to_index, embedding_matrix)"
   ]
  },
  {
   "cell_type": "code",
   "execution_count": 11,
   "metadata": {},
   "outputs": [],
   "source": [
    "def evaluate(model, data_loader):\n",
    "    model.eval()\n",
    "    all_preds = []\n",
    "    all_labels = []\n",
    "    with torch.no_grad():\n",
    "        for data, labels in data_loader:\n",
    "            output = model.forward(data)\n",
    "            probs = torch.sigmoid(output)  # Apply sigmoid to get probabilities\n",
    "            predicted = (probs >= 0.5).long()  # Convert probabilities to binary predictions\n",
    "            all_preds.extend(predicted.cpu().numpy().flatten().tolist())\n",
    "            all_labels.extend(labels.cpu().numpy().tolist())\n",
    "    acc = accuracy_score(all_labels, all_preds)\n",
    "    return acc"
   ]
  },
  {
   "cell_type": "code",
   "execution_count": 19,
   "metadata": {},
   "outputs": [],
   "source": [
    "def train_and_validate(model, train_loader, val_loader, optimizer, criterion, max_epochs=100, convergence_threshold=0.001):\n",
    "    best_val_acc = 0\n",
    "    epochs_without_improvement = 0\n",
    "    prev_val_acc = 0  # Track the previous validation accuracy\n",
    "\n",
    "    for epoch in range(max_epochs):\n",
    "        model.train()\n",
    "        running_loss = 0\n",
    "        for data, target in train_loader:\n",
    "            optimizer.zero_grad()\n",
    "            output = model(data)  # Unpack model output (assuming model returns output and attention weights)\n",
    "            output = output.squeeze(1)  # Squeeze to remove any unwanted dimensions (if needed)\n",
    "            loss = criterion(output, target.float())\n",
    "            loss.backward()\n",
    "            optimizer.step()\n",
    "            running_loss += loss.item()\n",
    "        \n",
    "        val_acc = evaluate(model, val_loader)\n",
    "        print(f\"Epoch {epoch+1}/{max_epochs}, Loss: {running_loss/len(train_loader)}, Val Accuracy: {val_acc}\")\n",
    "\n",
    "        # Check for improvement in accuracy or loss\n",
    "        if val_acc > best_val_acc:\n",
    "            best_val_acc = val_acc\n",
    "            epochs_without_improvement = 0  # Reset counter\n",
    "        else:\n",
    "            epochs_without_improvement += 1\n",
    "        \n",
    "        # Check for convergence in terms of accuracy improvement (threshold for small change)\n",
    "        if abs(val_acc - prev_val_acc) < convergence_threshold:\n",
    "            epochs_without_improvement += 1\n",
    "            print(f\"Small change in validation accuracy ({abs(val_acc - prev_val_acc):.6f}), increasing patience.\")\n",
    "        \n",
    "        prev_val_acc = val_acc  # Update the previous validation accuracy\n",
    "        \n",
    "        # Check for convergence (no improvement for 10 epochs or small changes)\n",
    "        if epochs_without_improvement >= 10:  # Convergence condition\n",
    "            print(\"Convergence reached, stopping training.\")\n",
    "            break\n",
    "            \n",
    "    return best_val_acc, epoch\n"
   ]
  },
  {
   "cell_type": "code",
   "execution_count": 20,
   "metadata": {},
   "outputs": [
    {
     "name": "stdout",
     "output_type": "stream",
     "text": [
      "Epoch 1/100, Loss: 0.6221631649714797, Val Accuracy: 0.7551594746716698\n",
      "Epoch 2/100, Loss: 0.385480981042136, Val Accuracy: 0.7682926829268293\n",
      "Epoch 3/100, Loss: 0.2059583786819408, Val Accuracy: 0.7682926829268293\n",
      "Small change in validation accuracy (0.000000), increasing patience.\n",
      "Epoch 4/100, Loss: 0.08824793556566114, Val Accuracy: 0.7598499061913696\n",
      "Epoch 5/100, Loss: 0.03770583792269897, Val Accuracy: 0.7382739212007504\n",
      "Epoch 6/100, Loss: 0.027207952549632416, Val Accuracy: 0.7664165103189493\n",
      "Epoch 7/100, Loss: 0.014696399301834362, Val Accuracy: 0.7673545966228893\n",
      "Small change in validation accuracy (0.000938), increasing patience.\n",
      "Epoch 8/100, Loss: 0.012700410767626921, Val Accuracy: 0.7542213883677298\n",
      "Epoch 9/100, Loss: 0.009156539890139342, Val Accuracy: 0.7354596622889306\n",
      "Epoch 10/100, Loss: 0.011639100531215602, Val Accuracy: 0.7626641651031895\n",
      "Convergence reached, stopping training.\n",
      "Validation Accuracy: 0.7682926829268293, over 9 epochs\n"
     ]
    }
   ],
   "source": [
    "#Training the model with the best hyperparameters\n",
    "batch_size = 64\n",
    "lr=0.001\n",
    "model = BiGRUWithSelfAttention(embedding_matrix_tensor, hidden_size=128, output_size=1)\n",
    "criterion = nn.BCEWithLogitsLoss()\n",
    "optimizer = optim.Adam(model.parameters(), lr=lr)\n",
    "\n",
    "train_loader = create_data_loader(train_dataset_instance, batch_size)\n",
    "val_loader = create_data_loader(val_dataset_instance, batch_size)\n",
    "                \n",
    "# Train and validate\n",
    "val_acc, epochs_used = train_and_validate(model, train_loader, val_loader, optimizer, criterion)\n",
    "print(f\"Validation Accuracy: {val_acc}, over {epochs_used} epochs\")"
   ]
  },
  {
   "cell_type": "code",
   "execution_count": 21,
   "metadata": {},
   "outputs": [
    {
     "name": "stdout",
     "output_type": "stream",
     "text": [
      "Test Accuracy: 0.7804878048780488\n",
      "Final Configuration:\n",
      "Epochs: 9\n",
      "Learning Rate: 0.001\n",
      "Optimizer: Adam\n",
      "Batch Size: 64\n"
     ]
    }
   ],
   "source": [
    "# Step 7: Evaluate on Test Set\n",
    "test_loader = create_data_loader(test_dataset_instance, batch_size)\n",
    "test_acc = evaluate(model, test_loader)\n",
    "print(f\"Test Accuracy: {test_acc}\")\n",
    "\n",
    "# Report the configuration\n",
    "print(f\"Final Configuration:\\nEpochs: {epochs_used}\\nLearning Rate: {lr}\\nOptimizer: Adam\\nBatch Size: {batch_size}\")"
   ]
  }
 ],
 "metadata": {
  "kernelspec": {
   "display_name": "Python 3",
   "language": "python",
   "name": "python3"
  },
  "language_info": {
   "codemirror_mode": {
    "name": "ipython",
    "version": 3
   },
   "file_extension": ".py",
   "mimetype": "text/x-python",
   "name": "python",
   "nbconvert_exporter": "python",
   "pygments_lexer": "ipython3",
   "version": "3.12.2"
  }
 },
 "nbformat": 4,
 "nbformat_minor": 2
}
